{
  "nbformat": 4,
  "nbformat_minor": 0,
  "metadata": {
    "colab": {
      "name": "intro-to-python.ipynb",
      "provenance": [],
      "collapsed_sections": [],
      "toc_visible": true
    },
    "kernelspec": {
      "name": "python3",
      "display_name": "Python 3"
    },
    "language_info": {
      "name": "python"
    }
  },
  "cells": [
    {
      "cell_type": "markdown",
      "metadata": {
        "id": "IW_jCYH5ulJa"
      },
      "source": [
        "\n",
        "\n",
        "<p><img alt=\"Colaboratory logo\" height=\"45px\" src=\"/img/colab_favicon.ico\" align=\"left\" hspace=\"10px\" vspace=\"0px\"></p>\n",
        "\n",
        "# What is Colaboratory?\n",
        "\n",
        "(Taken directly from: https://colab.research.google.com/notebooks/intro.ipynb)\n",
        "\n",
        "Colaboratory, or \"Colab\" for short, allows you to write and execute Python in your browser, with \n",
        "- Zero configuration required\n",
        "- Free access to GPUs\n",
        "- Easy sharing\n",
        "\n",
        "Whether you're an **economist**, a **data scientist** or an **AI researcher**, Colab can make your work easier. Watch [Introduction to Colab](https://www.youtube.com/watch?v=inN8seMm7UI) to learn more, or just get started below!"
      ]
    },
    {
      "cell_type": "markdown",
      "metadata": {
        "id": "4zk7cvmNvPJJ"
      },
      "source": [
        "### Getting started\n",
        "\n",
        "The document you are reading is not a static web page, but an interactive environment called a **Colab notebook** that lets you write and execute code.\n",
        "\n",
        "For example, here is a **code cell** with a short Python script that computes a value, stores it in a variable, and prints the result:"
      ]
    },
    {
      "cell_type": "code",
      "metadata": {
        "id": "KKfO4UvVvsoh"
      },
      "source": [
        "seconds_in_a_day = 24 * 60 * 60\n",
        "seconds_in_a_day"
      ],
      "execution_count": null,
      "outputs": []
    },
    {
      "cell_type": "markdown",
      "metadata": {
        "id": "rj9CM4L3vszb"
      },
      "source": [
        "To execute the code in the above cell, select it with a click and then either press the play button to the left of the code, or use the keyboard shortcut \"Command/Ctrl+Enter\". To edit the code, just click the cell and start editing.\n",
        "\n",
        "Variables that you define in one cell can later be used in other cells:"
      ]
    },
    {
      "cell_type": "code",
      "metadata": {
        "id": "Xza_c_Pvvs_U"
      },
      "source": [
        "seconds_in_a_week = 7 * seconds_in_a_day\n",
        "seconds_in_a_week"
      ],
      "execution_count": null,
      "outputs": []
    },
    {
      "cell_type": "markdown",
      "metadata": {
        "id": "UB_8FGCNvtKR"
      },
      "source": [
        "Colab notebooks allow you to combine **executable code** and **rich text** in a single document, along with **images**, **HTML**, **LaTeX** and more. When you create your own Colab notebooks, they are stored in your Google Drive account. You can easily share your Colab notebooks with co-workers or friends, allowing them to comment on your notebooks or even edit them. To learn more, see [Overview of Colab](/notebooks/basic_features_overview.ipynb). To create a new Colab notebook you can use the File menu above, or use the following link: [create a new Colab notebook](http://colab.research.google.com#create=true).\n",
        "\n",
        "Colab notebooks are Jupyter notebooks that are hosted by Colab. To learn more about the Jupyter project, see [jupyter.org](https://www.jupyter.org)."
      ]
    },
    {
      "cell_type": "markdown",
      "metadata": {
        "id": "T0hl0xBGwDSN"
      },
      "source": [
        "___\n",
        "# Introduction to Python\n",
        "+ Variables and types\n",
        "+ Control Flow\n",
        "+ Functions\n",
        "+ Packages\n",
        "+ Numpy\n",
        "+ Further resources"
      ]
    },
    {
      "cell_type": "markdown",
      "metadata": {
        "id": "wmP0tjgbR8-s"
      },
      "source": [
        "## Variables and types\n",
        "A variable is a name associated with a value, this is useful for storing values and re-using them as we go."
      ]
    },
    {
      "cell_type": "code",
      "metadata": {
        "id": "j2esvuv_SYWE"
      },
      "source": [
        "# Assign the value 5 to the variable x\n",
        "x = 10\n",
        "# You can do math with variables\n",
        "x + 5"
      ],
      "execution_count": null,
      "outputs": []
    },
    {
      "cell_type": "code",
      "metadata": {
        "id": "ZaWympQGSrDi"
      },
      "source": [
        "# Note that x is still 10, we did NOT assign x + 5 to x, we just used x to do some math\n",
        "x"
      ],
      "execution_count": null,
      "outputs": []
    },
    {
      "cell_type": "code",
      "metadata": {
        "id": "qWyETIpJSg68"
      },
      "source": [
        "# You can overwrite an existing variable\n",
        "x = 2 * 3 # You can also use math in the assignment of a variable\n",
        "x"
      ],
      "execution_count": null,
      "outputs": []
    },
    {
      "cell_type": "code",
      "metadata": {
        "id": "2tCnY_PWS_-6"
      },
      "source": [
        "# You can also use variables in the assignment of a variables\n",
        "x = x + 3 # A shorthand for incrementation is x += 3\n",
        "y = x + 3\n",
        "x, y"
      ],
      "execution_count": null,
      "outputs": []
    },
    {
      "cell_type": "markdown",
      "metadata": {
        "id": "BJ2l9tasTmVS"
      },
      "source": [
        "### Variable names\n",
        "You cannot use any variable name you'd like, in general there are two things to look out for:  \n",
        "1. There are some name of variables that will throw an error, such as starting your variable name with a number or using special characters like `?.\\+-*/` (`_` is allowed and very often used, e.g. `my_variable = 3`).\n",
        "2. There are reserved names. These are used by Python and cannot (or should not) be overwritten. E.g. `from`, `import`, `if`, `and`, `else`, `True`, `False`.\n",
        "\n",
        "Lastly, in programming there are *conventions*, that is, people agree on how the code should be written, it's not enforced but it's **very good practice** to follow these. The problem is that different people and different programming languages have different conventions, so it can get a bit messy. In Python, the most widely used convention is to follow [PEP 8](https://www.python.org/dev/peps/pep-0008/).\n",
        "\n",
        "If you pay close attention, you will see that I do not always strictly follow PEP 8. In practice, the conventions you will use greatly depend on the project you are working on and the team you are working with."
      ]
    },
    {
      "cell_type": "markdown",
      "metadata": {
        "id": "0BJ6nIDFXll2"
      },
      "source": [
        "### Variable types\n",
        "A variable can have different types. In the above example, our `x` was always an integer, the most common types are:\n",
        "\n",
        "|Type|Description|\n",
        "|----|-----------|\n",
        "|`int`|Integer, a number in $\\mathbb{Z}$|\n",
        "|`float`| Decimal or floating point number, a number in $\\mathbb{R}$|\n",
        "|`str`| String, a character string, e.g. `\"unisg\"`|\n",
        "|`bool`| Boolean, either `True` or `False`|"
      ]
    },
    {
      "cell_type": "markdown",
      "metadata": {
        "id": "-El0RHbGXYC6"
      },
      "source": [
        "#### Integers and floating-point numbers\n",
        "\n",
        "Integers and floating-point numbers (or floats) are the basic numeric types in Python. While it is important to know the difference between `int` and `float`, in most of what we will cover, Python will do the conversion automatically for us and we do not need to think about it much."
      ]
    },
    {
      "cell_type": "code",
      "metadata": {
        "id": "iixD1BuCT1m0"
      },
      "source": [
        "# Here is an example of an int being converted automatically to a float\n",
        "x = 3\n",
        "type(x) # Returns the type of an object"
      ],
      "execution_count": null,
      "outputs": []
    },
    {
      "cell_type": "code",
      "metadata": {
        "id": "mw_8tTnlZdmR"
      },
      "source": [
        "x = x / 2 # After division by 2, x will be 1.5 and thus cannot be an integer anymore\n",
        "x, type(x)"
      ],
      "execution_count": null,
      "outputs": []
    },
    {
      "cell_type": "markdown",
      "metadata": {
        "id": "gznZiTI4Xa-1"
      },
      "source": [
        "#### Strings\n",
        "\n",
        "Strings are sequences of characters, these are delimited either by single or double quotes (e.g. `x = 'unisg'` is the same thing as `x = \"unisg\"`, both assign the value unisg to the variable `x`.\n"
      ]
    },
    {
      "cell_type": "code",
      "metadata": {
        "id": "CsfgqFxIYdz3"
      },
      "source": [
        "# Character strings are defined between single or double quotes (but not both for the same string)\n",
        "x = '1' # or x = \"1\"\n",
        "x"
      ],
      "execution_count": null,
      "outputs": []
    },
    {
      "cell_type": "code",
      "metadata": {
        "id": "JR5TZ2j2Z5Ap"
      },
      "source": [
        "# Strings are different from numbers and addition / multiplication will work differently\n",
        "x + x"
      ],
      "execution_count": null,
      "outputs": []
    },
    {
      "cell_type": "code",
      "metadata": {
        "id": "m09LiiNVaYFK"
      },
      "source": [
        "x + 1 # Produces an error, str cannot be added with another non-str type"
      ],
      "execution_count": null,
      "outputs": []
    },
    {
      "cell_type": "code",
      "metadata": {
        "id": "bXcdccqNeOwT"
      },
      "source": [
        "x = \"my_string\" # Assign the value 'my_string' to the variable x\n",
        "my_string = \"x\" # Assigne the value 'x' to the variable my_string\n",
        "x, my_string # Notice how x contains the value 'my_string' and my_string contains the value 'x'"
      ],
      "execution_count": null,
      "outputs": []
    },
    {
      "cell_type": "code",
      "metadata": {
        "id": "w2YNsy6bY9gk"
      },
      "source": [
        "x = '1'\n",
        "x * 3 # Mutiplying a string by a number simply repeats the string (3 times in this case)"
      ],
      "execution_count": null,
      "outputs": []
    },
    {
      "cell_type": "code",
      "metadata": {
        "id": "s8U7YTaYY--6"
      },
      "source": [
        "# When a string represents a number, it can be easily converted\n",
        "int(x) + 1"
      ],
      "execution_count": null,
      "outputs": []
    },
    {
      "cell_type": "code",
      "metadata": {
        "id": "JK-n5G9Ac0Kn"
      },
      "source": [
        "# This does not work when the string cannot be interpreted as a number\n",
        "x = \"unisg\"\n",
        "int(x)"
      ],
      "execution_count": null,
      "outputs": []
    },
    {
      "cell_type": "markdown",
      "metadata": {
        "id": "C6q6HsqZXfIj"
      },
      "source": [
        "#### Booleans\n",
        "\n",
        "Booleans originate from [Boolean logic](https://en.wikipedia.org/wiki/Boolean_algebra) but practically, we can view them as a kind of number.\n",
        "\n",
        "`True` is equivalent to `1` and `False` is equivalent to `0`. See the following truth table for two truth values `x` and `y` and for the basic operations `and` and `or`.\n",
        "\n",
        "|x|y|x and y|x or y|\n",
        "|:-:|:-:|:-:|:-:|\n",
        "|0 | 0 | 0 | 0 |\n",
        "| 1| 0 | 0 | 1 |\n",
        "|0|1|0|1|\n",
        "|1|1|1|1|\n",
        "\n",
        "As we will see later, booleans are particularly important for control flow.\n"
      ]
    },
    {
      "cell_type": "code",
      "metadata": {
        "id": "zKmIB-ViXo7n"
      },
      "source": [
        "x = True\n",
        "y = False\n",
        "x and y # Corresponds to the 2nd column, 2nd row of the above table"
      ],
      "execution_count": null,
      "outputs": []
    },
    {
      "cell_type": "code",
      "metadata": {
        "id": "705MVJIhfkOE"
      },
      "source": [
        "x = False\n",
        "y = True\n",
        "x or y # Corresponds to the 4th column, 3rd row of the above table"
      ],
      "execution_count": null,
      "outputs": []
    },
    {
      "cell_type": "markdown",
      "metadata": {
        "id": "15y_k9ADXnOD"
      },
      "source": [
        "#### Lists\n",
        "\n",
        "Lists in Python are what other languages might call vectors or arrays. These represent a sequence of different variables. Lists behave like strings when we use multiplication or addition, this can cause a bit of confusion, in particular if you make the mistake of thinking of lists of numbers as vectors in $\\mathbb{R}^N$"
      ]
    },
    {
      "cell_type": "code",
      "metadata": {
        "id": "8n0LVD8FiXqb"
      },
      "source": [
        "x = [1, 2, 3] # A list of the first three positive integers"
      ],
      "execution_count": null,
      "outputs": []
    },
    {
      "cell_type": "code",
      "metadata": {
        "id": "Pe2a68aJigtO"
      },
      "source": [
        "x * 3 # As with strings, multiplying a list will simply repeat it"
      ],
      "execution_count": null,
      "outputs": []
    },
    {
      "cell_type": "code",
      "metadata": {
        "id": "sD_vUyxui-Bk"
      },
      "source": [
        "y = [\"a\", 2, 1.5, \"b\", True] # A list mixing multiple variable types\n",
        "x + y # As with strings, an addition will simply append one list to the other"
      ],
      "execution_count": null,
      "outputs": []
    },
    {
      "cell_type": "markdown",
      "metadata": {
        "id": "Q9wHRT-yXG07"
      },
      "source": [
        "You can access a particular element of a list by using square brackets, e.g. if `x` is a list, you can access its elements using `x[0]`, `x[1]`, etc.\n",
        "\n",
        "Notice that in Python, we start counting at 0, this is customary in many (but not all) programming languages."
      ]
    },
    {
      "cell_type": "code",
      "metadata": {
        "id": "VrLmwWVUWrsf"
      },
      "source": [
        "# You can access a particular element of a list by using square brackets\n",
        "x[2]"
      ],
      "execution_count": null,
      "outputs": []
    },
    {
      "cell_type": "code",
      "metadata": {
        "id": "QpnOeQbMW59N"
      },
      "source": [
        "# In Python we start counting at 0, hence x[0] will give the first element of x\n",
        "x[0]"
      ],
      "execution_count": null,
      "outputs": []
    },
    {
      "cell_type": "markdown",
      "metadata": {
        "id": "RZidWU_vdGwi"
      },
      "source": [
        "## Functions\n",
        "\n",
        "A function is an object that maps one or more arguments to an output. There are a few of *builtin* functions, which are functions that are built in the Python language (such as `print`, `pow`, or `sum`) and there are a lot of functions that become available once we load specific packages (more on that later). Furthermore, you can create your own functions to optimize your workflow."
      ]
    },
    {
      "cell_type": "markdown",
      "metadata": {
        "id": "lJQYabSZkQgb"
      },
      "source": [
        "Until now, we have executed code cells and the last line was displayed back to Colab. But what if we want to display more than just the last line? The approach we took isn't very practical. This can be done with the `print` function.\n"
      ]
    },
    {
      "cell_type": "code",
      "metadata": {
        "id": "tuCUIl6IkPHT"
      },
      "source": [
        "x = \"Hello\"\n",
        "print(x) # Display the value of x \n",
        "x += \" world!\" # Add some more words to the variable x (notice how we use the shorthand for incrementation)\n",
        "print(x) # Display the new value"
      ],
      "execution_count": null,
      "outputs": []
    },
    {
      "cell_type": "markdown",
      "metadata": {
        "id": "FSHzBRO6l7zH"
      },
      "source": [
        "We can use `print` to combine multiple strings and variables together, see the example below where we also use the builtin function `sum`"
      ]
    },
    {
      "cell_type": "code",
      "metadata": {
        "id": "I6Bsd5pZlsMC"
      },
      "source": [
        "x = [1, 2, 3]\n",
        "print(\"The sum of\", x, \"is\", sum(x))"
      ],
      "execution_count": null,
      "outputs": []
    },
    {
      "cell_type": "markdown",
      "metadata": {
        "id": "WYghNMCxmnCI"
      },
      "source": [
        "If you are not sure how to use a specific function, you can always type a question mark and the function's name, e.g."
      ]
    },
    {
      "cell_type": "code",
      "metadata": {
        "id": "zzrA_bmHmmF1"
      },
      "source": [
        "?pow"
      ],
      "execution_count": null,
      "outputs": []
    },
    {
      "cell_type": "markdown",
      "metadata": {
        "id": "SWig6S1Rv1fX"
      },
      "source": [
        "You can create your own functions too. A function always begins with ```def```"
      ]
    },
    {
      "cell_type": "code",
      "metadata": {
        "id": "334m1NfrnxcJ"
      },
      "source": [
        "# Create a function that takes in two parameters and adds them together\n",
        "def my_function(a, b):\n",
        "  return a + b"
      ],
      "execution_count": null,
      "outputs": []
    },
    {
      "cell_type": "code",
      "metadata": {
        "id": "lpWi2ZZ5n5_D"
      },
      "source": [
        "my_function(1, 5)"
      ],
      "execution_count": null,
      "outputs": []
    },
    {
      "cell_type": "markdown",
      "metadata": {
        "id": "aWdwf_Y7dDlR"
      },
      "source": [
        "## Control Flow"
      ]
    },
    {
      "cell_type": "markdown",
      "metadata": {
        "id": "dZ1qy1FtY-0f"
      },
      "source": [
        "### Conditional evaluation / If-else statements\n",
        "If-else statements allow to evaluate only parts of the program dependent on specific conditions."
      ]
    },
    {
      "cell_type": "code",
      "metadata": {
        "id": "TEYen6LWRGnI"
      },
      "source": [
        "if True:\n",
        "  print(\"This code block will be executed\")\n",
        "if False:\n",
        "  print(\"This code block will not be executed\")"
      ],
      "execution_count": null,
      "outputs": []
    },
    {
      "cell_type": "markdown",
      "metadata": {
        "id": "5GwjWsTCRXL2"
      },
      "source": [
        "Notice how only the first code block was executed, this is because the second condition was false and hence the program never entered the if statement. Clearly, the above example is not very practical because it will always evaluate in the same way."
      ]
    },
    {
      "cell_type": "code",
      "metadata": {
        "id": "PxIDqyFPQ3sa"
      },
      "source": [
        "x = 5\n",
        "y = 10\n",
        "# If-statement, only execute the code within it if the statement (x > y) is true\n",
        "if x > y:\n",
        "  print(\"x is greater than y\")\n",
        "# Only execute the code if the statement (x < y) is true\n",
        "if x < y:\n",
        "  print(\"x is less than y\")"
      ],
      "execution_count": null,
      "outputs": []
    },
    {
      "cell_type": "markdown",
      "metadata": {
        "id": "tQ6bafLQT6xP"
      },
      "source": [
        "You can also combine multiple if statements that are mutually exclusive in an if-else statement. For instance, the two if-statements above can be written as:"
      ]
    },
    {
      "cell_type": "code",
      "metadata": {
        "id": "qPNwiSsXUExm"
      },
      "source": [
        "if x > y:\n",
        "  print(\"x is greater than y\")\n",
        "elif x < y: # Only executes if the condition is true and the conditions above are all false\n",
        "  print(\"x is less than y\")\n",
        "else: # Only executes if no other condition if the statement was true\n",
        "  print(\"x is equal to y\")"
      ],
      "execution_count": null,
      "outputs": []
    },
    {
      "cell_type": "markdown",
      "metadata": {
        "id": "mvarCD4iZBaX"
      },
      "source": [
        "In Python, numeric comparisons are done using the following symbols:\n",
        "+ `x > y` evaluates as `True` if x is greater than y\n",
        "+ `x < y` evaluates as `True` if x is less than y\n",
        "+ `x >= y` evaluates as `True` if x is greater than or equal to y\n",
        "+ `x <= y` evaluates as `True` if x is less than or equal to y\n",
        "+ `x == y` evaluates as `True` if x is equal to y\n",
        "+ `x != y` evaluates as `True` if x is not equal to y"
      ]
    },
    {
      "cell_type": "markdown",
      "metadata": {
        "id": "_dMulryBU8Hj"
      },
      "source": [
        "### Loops\n",
        "Loops are useful for repeated evaluation of expressions. There are two main types of loops, `for` loops and `while` loops."
      ]
    },
    {
      "cell_type": "code",
      "metadata": {
        "id": "qEJz2xSYYJNx"
      },
      "source": [
        "# The following code executes the block within for each iteration of i from 0 to 4\n",
        "for i in range(5):\n",
        "  print(i)"
      ],
      "execution_count": null,
      "outputs": []
    },
    {
      "cell_type": "code",
      "metadata": {
        "id": "Oz-I4Nr1Yb-H"
      },
      "source": [
        "# This can also be done using a while loop\n",
        "i = 0\n",
        "while i < 5:\n",
        "  print(i)\n",
        "  i += 1"
      ],
      "execution_count": null,
      "outputs": []
    },
    {
      "cell_type": "markdown",
      "metadata": {
        "id": "Q7kEpvkYYipr"
      },
      "source": [
        "When using a `while` loop, make sure you have an exit condition, otherwise your code will never stop and you will have to interrupt it. For instance the block\n",
        "```python\n",
        "i = 0\n",
        "while i >= 0:\n",
        "  print(i)\n",
        "```\n",
        "will never reach an exit condition, as `i` is always greater or equal to 0."
      ]
    },
    {
      "cell_type": "markdown",
      "metadata": {
        "id": "_YUl-BV1j61P"
      },
      "source": [
        "## Putting it all together\n",
        "\n",
        "We have now viewed enough concepts for us to write a small but somewhat useful program. Let's put a function together that will tell us whether a number is a prime or a composite number.\n",
        "\n",
        "This function `is_prime(x)` will take a number `x` and return `True` if it is prime or `False` if it is composite.\n",
        "\n",
        "Before we get down to the function, it will be useful to introduce *modulo* and *integer division*.\n",
        "\n",
        "**Modulo** gives the remainder of a division and **integer division** is a division where we discard the fractional part. Given two numbers $a$ and $b$, the integer division of $a$ and $b$ is $a / b = \\lfloor \\frac{a}{b} \\rfloor$ and the modulo is $a \\mod b = a - b \\cdot \\lfloor \\frac{a}{b} \\rfloor$.\n",
        "\n",
        "Hence, if $a = 15$ and $b = 6$, the integer division is equal to $\\lfloor \\frac{15}{6} \\rfloor = \\lfloor 2.5 \\rfloor = 2$ and the modulo is equal to $a \\mod b = 15 - 2 \\cdot 6 = 3$.\n",
        "\n",
        "Consequently, if $a \\mod b = 0$, this implies that there is no remainder and thus $a$ is divisible by $b$. This will be useful to find primes, as primes are only divisible by $1$ and themselves."
      ]
    },
    {
      "cell_type": "code",
      "metadata": {
        "id": "k2QUh4Bckzjt"
      },
      "source": [
        "# Recall that a number x is prime if there is no integer 1 < d < x which divides x into an integer.\n",
        "def is_prime(x):\n",
        "  if x < 2: # 0 and 1 are not prime numbers\n",
        "    return False\n",
        "  # Iterate over the possible divisors d = 2, 3, .., x - 1\n",
        "  for d in range(2, x):\n",
        "    if x % d == 0: # % represents the modulo operation in many programming languages\n",
        "      # If x is divisible by d it cannot be prime\n",
        "      return False\n",
        "  # Here the loop over all d's is finished, if we did not exit the function we must have found a prime\n",
        "  return True\n"
      ],
      "execution_count": null,
      "outputs": []
    },
    {
      "cell_type": "code",
      "metadata": {
        "id": "JKnzaF8c3_Sy"
      },
      "source": [
        "# Let's now print out the prime numbers from 1 to 100\n",
        "for i in range(100):\n",
        "  if is_prime(i):\n",
        "    print(i, \"is a prime number\")"
      ],
      "execution_count": null,
      "outputs": []
    },
    {
      "cell_type": "markdown",
      "metadata": {
        "id": "lwDLg04j8OlE"
      },
      "source": [
        "On a side note: this function is just pedagogical because it is a very inefficient way to find primes; you will struggle finding primes up to a million or more without making some *smart* changes to that function. "
      ]
    },
    {
      "cell_type": "markdown",
      "metadata": {
        "id": "tXqfqpWHdIRl"
      },
      "source": [
        "## Packages\n",
        "\n",
        "In Python, a package (also sometimes called library or module) is a set of functions (and/or objects) that extend the base Python functions. As Python is open source, anyone can contribute to the Python ecosystem by writing and publishing his or her own package.\n",
        "\n",
        "On the one hand, this has the advantage that you will find an existing package for nearly any application you are trying to implement and, on the other hand, it also means that sometimes you should be wary of trusting a package... did the author really make no mistake in the code? Is the package doing what you think it is doing? This is not really a problem for major packages, but if you rely on a very specific, less known package, this are things to take into consideration."
      ]
    },
    {
      "cell_type": "code",
      "metadata": {
        "id": "3xRGKuus_U6s"
      },
      "source": [
        "# Importing a package easy\n",
        "import math\n",
        "# Calling a function from a package is also easy\n",
        "math.sqrt(2) # Gives the square root of 2"
      ],
      "execution_count": null,
      "outputs": []
    },
    {
      "cell_type": "code",
      "metadata": {
        "id": "e9aDFDTh_g1D"
      },
      "source": [
        "# Sometimes, you don't want to import the full package\n",
        "from math import sqrt\n",
        "sqrt(2) # Now we can call sqrt directly, without prepending math."
      ],
      "execution_count": null,
      "outputs": []
    },
    {
      "cell_type": "code",
      "metadata": {
        "id": "q1MK1xWw_uEi"
      },
      "source": [
        "# You can also use a shorthand when importing a package\n",
        "import math as m\n",
        "m.sqrt(2)"
      ],
      "execution_count": null,
      "outputs": []
    },
    {
      "cell_type": "markdown",
      "metadata": {
        "id": "-XuabPYnAVhM"
      },
      "source": [
        "In general, try to use `import package as shorthand` rather than `from package import function`. Without going into the details, importing functions directly from a package can cause conflicts if you have other functions with the same name."
      ]
    },
    {
      "cell_type": "markdown",
      "metadata": {
        "id": "OfoILmJ3dKX_"
      },
      "source": [
        "## Numpy\n",
        "\n",
        "If you want to do any kind of efficient numerical computing with Python, you will have to use `numpy`, a package made specifically for that. `numpy` allows you to work with arrays as if they were mathematical vectors or matrices."
      ]
    },
    {
      "cell_type": "code",
      "metadata": {
        "id": "Ezg89EF8BXH1"
      },
      "source": [
        "import numpy as np # Import the package\n",
        "x_numpy = np.array([1, 2, 3]) # Create a numpy array of numbers [1, 2, 3]\n",
        "x_base = [1, 2, 3] # Create a list of numbers [1, 2, 3] in base Python\n",
        "# Observe how these objects behave with mathematical operations\n",
        "print(\"Base :\", x_base * 2)\n",
        "print(\"Numpy:\", x_numpy * 2)\n"
      ],
      "execution_count": null,
      "outputs": []
    },
    {
      "cell_type": "markdown",
      "metadata": {
        "id": "QtzhJJ2PCNfI"
      },
      "source": [
        "If you recall, multiplying a base list simply repeats the list as we can see above. However, doing this with a `numpy` array instead, we now obtain element-wise multiplication, which is much more practical for numerical computing. `numpy` doesn't stop here, you can also do addition, subtraction, division, exponentials, and/or vector operations, here are a few examples:"
      ]
    },
    {
      "cell_type": "code",
      "metadata": {
        "id": "WxeBN3EJCmTq"
      },
      "source": [
        "np.exp(x_numpy) # Exponential applied element-wise"
      ],
      "execution_count": null,
      "outputs": []
    },
    {
      "cell_type": "code",
      "metadata": {
        "id": "skdogUDUEXzB"
      },
      "source": [
        "np.sqrt(x_numpy) # Notice how numpy also has most mathematical functions"
      ],
      "execution_count": null,
      "outputs": []
    },
    {
      "cell_type": "code",
      "metadata": {
        "id": "-SNMQCT5CmWQ"
      },
      "source": [
        "x_numpy - 2 # Element-wise subtraction"
      ],
      "execution_count": null,
      "outputs": []
    },
    {
      "cell_type": "code",
      "metadata": {
        "id": "IClX3HDxCman"
      },
      "source": [
        "# Create a 2x3 matrix\n",
        "mat = np.array([[1, 2, 3], [4, 5, 6]])\n",
        "mat"
      ],
      "execution_count": null,
      "outputs": []
    },
    {
      "cell_type": "code",
      "metadata": {
        "id": "A0RCCZ6ZDKjJ"
      },
      "source": [
        "# Transposing the matrix is easy\n",
        "mat.transpose() # also np.tranpose(mat)"
      ],
      "execution_count": null,
      "outputs": []
    },
    {
      "cell_type": "code",
      "metadata": {
        "id": "d2Vo4rm6Dw8Y"
      },
      "source": [
        "# Tranposing the vector is slightly more complex because we must explicitly add a dimension\n",
        "x_numpy.shape = (3, 1) # Reshape and explicitly add the column dimension\n",
        "x_numpy @ x_numpy.transpose() # 3x1 by 1x3 multiplication => 3x3 matrix"
      ],
      "execution_count": null,
      "outputs": []
    },
    {
      "cell_type": "code",
      "metadata": {
        "id": "5XOYQIppE9LI"
      },
      "source": [
        "# Multiply the 2x3 matrix with the 3x1 row vector => 2x1 vector\n",
        "mat @ x_numpy"
      ],
      "execution_count": null,
      "outputs": []
    },
    {
      "cell_type": "markdown",
      "metadata": {
        "id": "_3t6BcvDvR0h"
      },
      "source": [
        "## Further resources\n",
        "\n",
        "Programming is a skill that is easy to learn but hard to master. It can be difficult to compress multiple concepts in a short notebook and thus many important concepts such as *objects*, *scope of variables*, and *(im)mutability* were ignored completely throughout this introduction. \n",
        "\n",
        "If you understand everything we did in this notebook, you will surely be able to follow what is done in the lab-sessions of the main courses, however, this is only the tip of the programming iceberg. It is definitely worthwhile to check out more complete resources that go over  concepts in more detail. \n",
        "\n",
        "A good starting point are the resources listed on the official Python website:\n",
        "+ [Beginner's Guide](https://wiki.python.org/moin/BeginnersGuide)\n",
        "+ [Python for Programmers](https://wiki.python.org/moin/BeginnersGuide/Programmers)\n",
        "\n",
        "If you are more of hands-on person and enjoy solving programming and mathematical puzzles, you might want to have a look at websites like\n",
        "+ [Project Euler](https://projecteuler.net/)\n",
        "+ [HackerRank](https://www.hackerrank.com/)"
      ]
    }
  ]
}